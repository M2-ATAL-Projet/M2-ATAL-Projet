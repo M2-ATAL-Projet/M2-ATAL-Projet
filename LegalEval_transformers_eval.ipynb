{
 "cells": [
  {
   "cell_type": "code",
   "execution_count": 1,
   "metadata": {},
   "outputs": [
    {
     "name": "stdout",
     "output_type": "stream",
     "text": [
      "Defaulting to user installation because normal site-packages is not writeable\n",
      "Requirement already satisfied: accelerate in c:\\users\\lesen\\appdata\\roaming\\python\\python311\\site-packages (0.26.1)\n",
      "Requirement already satisfied: datasets in c:\\users\\lesen\\appdata\\roaming\\python\\python311\\site-packages (2.16.1)\n",
      "Requirement already satisfied: evaluate in c:\\users\\lesen\\appdata\\roaming\\python\\python311\\site-packages (0.4.1)\n",
      "Requirement already satisfied: numpy in c:\\programdata\\anaconda3\\lib\\site-packages (1.26.3)\n",
      "Requirement already satisfied: pandas in c:\\programdata\\anaconda3\\lib\\site-packages (2.1.4)\n",
      "Requirement already satisfied: scikit-learn in c:\\users\\lesen\\appdata\\roaming\\python\\python311\\site-packages (1.4.0)\n",
      "Requirement already satisfied: torch in c:\\users\\lesen\\appdata\\roaming\\python\\python311\\site-packages (2.1.2+cu121)\n",
      "Requirement already satisfied: transformers[torch] in c:\\programdata\\anaconda3\\lib\\site-packages (4.32.1)\n",
      "Requirement already satisfied: packaging>=20.0 in c:\\programdata\\anaconda3\\lib\\site-packages (from accelerate) (23.1)\n",
      "Requirement already satisfied: psutil in c:\\programdata\\anaconda3\\lib\\site-packages (from accelerate) (5.9.0)\n",
      "Requirement already satisfied: pyyaml in c:\\programdata\\anaconda3\\lib\\site-packages (from accelerate) (6.0.1)\n",
      "Requirement already satisfied: huggingface-hub in c:\\users\\lesen\\appdata\\roaming\\python\\python311\\site-packages (from accelerate) (0.20.3)\n",
      "Requirement already satisfied: safetensors>=0.3.1 in c:\\programdata\\anaconda3\\lib\\site-packages (from accelerate) (0.4.0)\n",
      "Requirement already satisfied: filelock in c:\\programdata\\anaconda3\\lib\\site-packages (from datasets) (3.13.1)\n",
      "Requirement already satisfied: pyarrow>=8.0.0 in c:\\programdata\\anaconda3\\lib\\site-packages (from datasets) (11.0.0)\n",
      "Requirement already satisfied: pyarrow-hotfix in c:\\users\\lesen\\appdata\\roaming\\python\\python311\\site-packages (from datasets) (0.6)\n",
      "Requirement already satisfied: dill<0.3.8,>=0.3.0 in c:\\programdata\\anaconda3\\lib\\site-packages (from datasets) (0.3.6)\n",
      "Requirement already satisfied: requests>=2.19.0 in c:\\programdata\\anaconda3\\lib\\site-packages (from datasets) (2.31.0)\n",
      "Requirement already satisfied: tqdm>=4.62.1 in c:\\programdata\\anaconda3\\lib\\site-packages (from datasets) (4.65.0)\n",
      "Requirement already satisfied: xxhash in c:\\programdata\\anaconda3\\lib\\site-packages (from datasets) (2.0.2)\n",
      "Requirement already satisfied: multiprocess in c:\\programdata\\anaconda3\\lib\\site-packages (from datasets) (0.70.14)\n",
      "Requirement already satisfied: fsspec<=2023.10.0,>=2023.1.0 in c:\\users\\lesen\\appdata\\roaming\\python\\python311\\site-packages (from fsspec[http]<=2023.10.0,>=2023.1.0->datasets) (2023.9.2)\n",
      "Requirement already satisfied: aiohttp in c:\\programdata\\anaconda3\\lib\\site-packages (from datasets) (3.9.0)\n",
      "Requirement already satisfied: responses<0.19 in c:\\programdata\\anaconda3\\lib\\site-packages (from evaluate) (0.13.3)\n",
      "Requirement already satisfied: python-dateutil>=2.8.2 in c:\\programdata\\anaconda3\\lib\\site-packages (from pandas) (2.8.2)\n",
      "Requirement already satisfied: pytz>=2020.1 in c:\\programdata\\anaconda3\\lib\\site-packages (from pandas) (2023.3.post1)\n",
      "Requirement already satisfied: tzdata>=2022.1 in c:\\programdata\\anaconda3\\lib\\site-packages (from pandas) (2023.3)\n",
      "Requirement already satisfied: scipy>=1.6.0 in c:\\users\\lesen\\appdata\\roaming\\python\\python311\\site-packages (from scikit-learn) (1.12.0)\n",
      "Requirement already satisfied: joblib>=1.2.0 in c:\\users\\lesen\\appdata\\roaming\\python\\python311\\site-packages (from scikit-learn) (1.3.2)\n",
      "Requirement already satisfied: threadpoolctl>=2.0.0 in c:\\users\\lesen\\appdata\\roaming\\python\\python311\\site-packages (from scikit-learn) (3.2.0)\n",
      "Requirement already satisfied: typing-extensions in c:\\programdata\\anaconda3\\lib\\site-packages (from torch) (4.9.0)\n",
      "Requirement already satisfied: sympy in c:\\programdata\\anaconda3\\lib\\site-packages (from torch) (1.12)\n",
      "Requirement already satisfied: networkx in c:\\programdata\\anaconda3\\lib\\site-packages (from torch) (3.1)\n",
      "Requirement already satisfied: jinja2 in c:\\programdata\\anaconda3\\lib\\site-packages (from torch) (3.1.2)\n",
      "Requirement already satisfied: regex!=2019.12.17 in c:\\programdata\\anaconda3\\lib\\site-packages (from transformers[torch]) (2023.10.3)\n",
      "Requirement already satisfied: tokenizers!=0.11.3,<0.14,>=0.11.1 in c:\\programdata\\anaconda3\\lib\\site-packages (from transformers[torch]) (0.13.3)\n",
      "Requirement already satisfied: attrs>=17.3.0 in c:\\programdata\\anaconda3\\lib\\site-packages (from aiohttp->datasets) (23.1.0)\n",
      "Requirement already satisfied: multidict<7.0,>=4.5 in c:\\programdata\\anaconda3\\lib\\site-packages (from aiohttp->datasets) (6.0.4)\n",
      "Requirement already satisfied: yarl<2.0,>=1.0 in c:\\programdata\\anaconda3\\lib\\site-packages (from aiohttp->datasets) (1.9.3)\n",
      "Requirement already satisfied: frozenlist>=1.1.1 in c:\\programdata\\anaconda3\\lib\\site-packages (from aiohttp->datasets) (1.4.0)\n",
      "Requirement already satisfied: aiosignal>=1.1.2 in c:\\programdata\\anaconda3\\lib\\site-packages (from aiohttp->datasets) (1.2.0)\n",
      "Requirement already satisfied: six>=1.5 in c:\\programdata\\anaconda3\\lib\\site-packages (from python-dateutil>=2.8.2->pandas) (1.16.0)\n",
      "Requirement already satisfied: charset-normalizer<4,>=2 in c:\\programdata\\anaconda3\\lib\\site-packages (from requests>=2.19.0->datasets) (2.0.4)\n",
      "Requirement already satisfied: idna<4,>=2.5 in c:\\programdata\\anaconda3\\lib\\site-packages (from requests>=2.19.0->datasets) (3.4)\n",
      "Requirement already satisfied: urllib3<3,>=1.21.1 in c:\\programdata\\anaconda3\\lib\\site-packages (from requests>=2.19.0->datasets) (1.26.18)\n",
      "Requirement already satisfied: certifi>=2017.4.17 in c:\\programdata\\anaconda3\\lib\\site-packages (from requests>=2.19.0->datasets) (2023.11.17)\n",
      "Requirement already satisfied: colorama in c:\\programdata\\anaconda3\\lib\\site-packages (from tqdm>=4.62.1->datasets) (0.4.6)\n",
      "Requirement already satisfied: MarkupSafe>=2.0 in c:\\programdata\\anaconda3\\lib\\site-packages (from jinja2->torch) (2.1.3)\n",
      "Requirement already satisfied: mpmath>=0.19 in c:\\programdata\\anaconda3\\lib\\site-packages (from sympy->torch) (1.3.0)\n",
      "Note: you may need to restart the kernel to use updated packages.\n"
     ]
    }
   ],
   "source": [
    "%pip install accelerate datasets evaluate numpy pandas scikit-learn torch transformers[torch]"
   ]
  },
  {
   "cell_type": "code",
   "execution_count": 2,
   "metadata": {},
   "outputs": [],
   "source": [
    "from datasets import ClassLabel, Features, load_dataset, TextClassification, Value\n",
    "from sklearn.metrics import confusion_matrix, ConfusionMatrixDisplay, precision_recall_fscore_support\n",
    "from pandas import DataFrame, read_csv\n",
    "from time import time\n",
    "from torch import backends, cuda\n",
    "from transformers import pipeline\n",
    "from transformers.pipelines.pt_utils import KeyDataset"
   ]
  },
  {
   "cell_type": "code",
   "execution_count": 3,
   "metadata": {},
   "outputs": [],
   "source": [
    "#from google.colab import drive\n",
    "#drive.mount('/content/drive')\n",
    "data_path = 'BUILD/'\n",
    "model_path = 'MODELS/'\n",
    "output_path = 'OUTPUT/'\n",
    "\n",
    "model_name = 'legalbert_2'\n",
    "\n",
    "log_every = 100\n",
    "\n",
    "use_cuda_if_available = True"
   ]
  },
  {
   "cell_type": "code",
   "execution_count": 4,
   "metadata": {},
   "outputs": [
    {
     "data": {
      "text/plain": [
       "'cuda:0'"
      ]
     },
     "execution_count": 4,
     "metadata": {},
     "output_type": "execute_result"
    }
   ],
   "source": [
    "if use_cuda_if_available and cuda.is_available():\n",
    "    device = \"cuda:0\"\n",
    "else:\n",
    "    device = \"cpu\"\n",
    "    if not use_cuda_if_available:\n",
    "        backends.cudnn.enabled = False\n",
    "        cuda.is_available = lambda : False\n",
    "\n",
    "device"
   ]
  },
  {
   "cell_type": "code",
   "execution_count": 5,
   "metadata": {},
   "outputs": [],
   "source": [
    "train = read_csv(f'{data_path}train.csv')\n",
    "dev = read_csv(f'{data_path}dev.csv')"
   ]
  },
  {
   "cell_type": "code",
   "execution_count": 6,
   "metadata": {},
   "outputs": [],
   "source": [
    "meta_groups = ['Criminal', 'Tax']\n",
    "labels = ['PREAMBLE', 'FAC', 'RLC', 'ISSUE', 'ARG_PETITIONER', 'ARG_RESPONDENT', 'ANALYSIS', 'STA', 'PRE_RELIED', 'PRE_NOT_RELIED', 'RATIO', 'RPC', 'NONE']\n",
    "\n",
    "dataset = load_dataset(\n",
    "    'csv',\n",
    "    data_files={\n",
    "        'train': f'{data_path}train.csv',\n",
    "        'test': f'{data_path}dev.csv',\n",
    "    },\n",
    "    features=Features({\n",
    "        'doc_id': Value('uint32'),\n",
    "        'doc_index': Value('uint16'),\n",
    "        'sentence_index': Value('uint16'),\n",
    "        'annotation_id': Value('string'),\n",
    "        'text': Value('string'),\n",
    "        'meta_group': ClassLabel(names=meta_groups),\n",
    "        'labels': ClassLabel(names=labels),\n",
    "    }),\n",
    "    split='test[:]'\n",
    ")\n"
   ]
  },
  {
   "cell_type": "code",
   "execution_count": 17,
   "metadata": {},
   "outputs": [
    {
     "name": "stderr",
     "output_type": "stream",
     "text": [
      "c:\\ProgramData\\anaconda3\\Lib\\site-packages\\transformers\\pipelines\\text_classification.py:105: UserWarning: `return_all_scores` is now deprecated,  if want a similar functionality use `top_k=None` instead of `return_all_scores=True` or `top_k=1` instead of `return_all_scores=False`.\n",
      "  warnings.warn(\n"
     ]
    }
   ],
   "source": [
    "classifier = pipeline('text-classification', model=f'{model_path}{model_name}_model', device=device, return_all_scores=True)"
   ]
  },
  {
   "cell_type": "code",
   "execution_count": 18,
   "metadata": {},
   "outputs": [
    {
     "data": {
      "text/plain": [
       "[[{'label': 'PREAMBLE', 'score': 0.016414782032370567},\n",
       "  {'label': 'FAC', 'score': 0.012092282064259052},\n",
       "  {'label': 'RLC', 'score': 0.005243601277470589},\n",
       "  {'label': 'ISSUE', 'score': 0.04265857860445976},\n",
       "  {'label': 'ARG_PETITIONER', 'score': 0.009925277903676033},\n",
       "  {'label': 'ARG_RESPONDENT', 'score': 0.006513834930956364},\n",
       "  {'label': 'ANALYSIS', 'score': 0.7462190389633179},\n",
       "  {'label': 'STA', 'score': 0.05020399019122124},\n",
       "  {'label': 'PRE_RELIED', 'score': 0.07606191188097},\n",
       "  {'label': 'PRE_NOT_RELIED', 'score': 0.013796793296933174},\n",
       "  {'label': 'RATIO', 'score': 0.013640145771205425},\n",
       "  {'label': 'RPC', 'score': 0.0027304862160235643},\n",
       "  {'label': 'NONE', 'score': 0.004499299917370081}]]"
      ]
     },
     "execution_count": 18,
     "metadata": {},
     "output_type": "execute_result"
    }
   ],
   "source": [
    "classifier(\"The Court first considers the question of the interpretation placed on the word „education‟ occurring in Section 2 (15) of the Act.\")"
   ]
  },
  {
   "cell_type": "code",
   "execution_count": 19,
   "metadata": {},
   "outputs": [
    {
     "data": {
      "text/plain": [
       "[[{'label': 'PREAMBLE', 'score': 0.04151172935962677},\n",
       "  {'label': 'FAC', 'score': 0.005441292654722929},\n",
       "  {'label': 'RLC', 'score': 0.003714759135618806},\n",
       "  {'label': 'ISSUE', 'score': 0.0013815858401358128},\n",
       "  {'label': 'ARG_PETITIONER', 'score': 0.03285778686404228},\n",
       "  {'label': 'ARG_RESPONDENT', 'score': 0.008090818300843239},\n",
       "  {'label': 'ANALYSIS', 'score': 0.7561227083206177},\n",
       "  {'label': 'STA', 'score': 0.005678412038832903},\n",
       "  {'label': 'PRE_RELIED', 'score': 0.10927850008010864},\n",
       "  {'label': 'PRE_NOT_RELIED', 'score': 0.0084913969039917},\n",
       "  {'label': 'RATIO', 'score': 0.023553764447569847},\n",
       "  {'label': 'RPC', 'score': 0.001964857103303075},\n",
       "  {'label': 'NONE', 'score': 0.0019123171223327518}]]"
      ]
     },
     "execution_count": 19,
     "metadata": {},
     "output_type": "execute_result"
    }
   ],
   "source": [
    "# pre relied\n",
    "classifier(\"The preparation and distribution of text books certainly contributes to the process of training and development of the mind and the character of students.\")"
   ]
  },
  {
   "cell_type": "code",
   "execution_count": 23,
   "metadata": {},
   "outputs": [
    {
     "data": {
      "text/plain": [
       "[[{'label': 'PREAMBLE', 'score': 0.008173773996531963},\n",
       "  {'label': 'FAC', 'score': 0.058420728892087936},\n",
       "  {'label': 'RLC', 'score': 0.013787658885121346},\n",
       "  {'label': 'ISSUE', 'score': 0.001621848321519792},\n",
       "  {'label': 'ARG_PETITIONER', 'score': 0.10676918923854828},\n",
       "  {'label': 'ARG_RESPONDENT', 'score': 0.028795825317502022},\n",
       "  {'label': 'ANALYSIS', 'score': 0.7135751843452454},\n",
       "  {'label': 'STA', 'score': 0.002151449676603079},\n",
       "  {'label': 'PRE_RELIED', 'score': 0.03360213711857796},\n",
       "  {'label': 'PRE_NOT_RELIED', 'score': 0.005988121964037418},\n",
       "  {'label': 'RATIO', 'score': 0.022367306053638458},\n",
       "  {'label': 'RPC', 'score': 0.002942971419543028},\n",
       "  {'label': 'NONE', 'score': 0.001803829800337553}]]"
      ]
     },
     "execution_count": 23,
     "metadata": {},
     "output_type": "execute_result"
    }
   ],
   "source": [
    "classifier(\"My client thinks the preparation and distribution of text books certainly contributes to the process of training and development of the mind and the character of students.\")"
   ]
  },
  {
   "cell_type": "code",
   "execution_count": 20,
   "metadata": {},
   "outputs": [
    {
     "data": {
      "text/plain": [
       "[[{'label': 'PREAMBLE', 'score': 0.053299013525247574},\n",
       "  {'label': 'FAC', 'score': 0.01228675339370966},\n",
       "  {'label': 'RLC', 'score': 0.0074378615245223045},\n",
       "  {'label': 'ISSUE', 'score': 0.0022775225806981325},\n",
       "  {'label': 'ARG_PETITIONER', 'score': 0.03199724853038788},\n",
       "  {'label': 'ARG_RESPONDENT', 'score': 0.007470325566828251},\n",
       "  {'label': 'ANALYSIS', 'score': 0.6746957302093506},\n",
       "  {'label': 'STA', 'score': 0.012679584324359894},\n",
       "  {'label': 'PRE_RELIED', 'score': 0.16621693968772888},\n",
       "  {'label': 'PRE_NOT_RELIED', 'score': 0.008712699636816978},\n",
       "  {'label': 'RATIO', 'score': 0.015974504873156548},\n",
       "  {'label': 'RPC', 'score': 0.004776945803314447},\n",
       "  {'label': 'NONE', 'score': 0.0021748836152255535}]]"
      ]
     },
     "execution_count": 20,
     "metadata": {},
     "output_type": "execute_result"
    }
   ],
   "source": [
    "classifier(\"The creation and distribution of textbooks are important factors in the education and growth of students' minds and characters\")"
   ]
  },
  {
   "cell_type": "code",
   "execution_count": 8,
   "metadata": {},
   "outputs": [
    {
     "data": {
      "text/plain": [
       "[{'label': 'ANALYSIS', 'score': 0.7128999829292297}]"
      ]
     },
     "execution_count": 8,
     "metadata": {},
     "output_type": "execute_result"
    }
   ],
   "source": [
    "# ratio\n",
    "classifier(\"Reverting to the case on hand, the Court finds that what the ITAT has held in the impugned order is contrary to the settled law as explained in the above decisions.\")"
   ]
  },
  {
   "cell_type": "code",
   "execution_count": 8,
   "metadata": {},
   "outputs": [],
   "source": [
    "step_i = 0\n",
    "def log_step(x):\n",
    "    global step_i\n",
    "    if step_i % log_every == 0: print(step_i)\n",
    "    step_i += 1\n",
    "    return x"
   ]
  },
  {
   "cell_type": "code",
   "execution_count": 9,
   "metadata": {},
   "outputs": [
    {
     "name": "stdout",
     "output_type": "stream",
     "text": [
      "0\n",
      "100\n",
      "200\n",
      "300\n",
      "400\n",
      "500\n",
      "600\n",
      "700\n",
      "800\n",
      "900\n",
      "1000\n",
      "1100\n",
      "1200\n",
      "1300\n",
      "1400\n",
      "1500\n",
      "1600\n",
      "1700\n",
      "1800\n",
      "1900\n",
      "2000\n",
      "2100\n",
      "2200\n",
      "2300\n",
      "2400\n",
      "2500\n",
      "2600\n",
      "2700\n",
      "2800\n",
      "Elapsed: 28.69153666496277s\n"
     ]
    }
   ],
   "source": [
    "start = time()\n",
    "out = [log_step(x) for x in classifier(KeyDataset(dataset, 'text'))]\n",
    "elapsed = time() - start\n",
    "dev['pred'] = [o['label'] for o in out]\n",
    "\n",
    "print(f'Elapsed: {elapsed}s')"
   ]
  },
  {
   "cell_type": "code",
   "execution_count": 10,
   "metadata": {},
   "outputs": [],
   "source": [
    "label2id = {labels[i]: i for i in range(len(labels))}\n",
    "df_out = DataFrame({\n",
    "    'labels': [int(label) for label in dataset['labels']],\n",
    "    'pred': [label2id[l] for l in dev['pred']],\n",
    "})"
   ]
  },
  {
   "cell_type": "code",
   "execution_count": 11,
   "metadata": {},
   "outputs": [],
   "source": [
    "def eval(df: DataFrame):\n",
    "    ground_truth_labels = df['labels']\n",
    "    submission_labels = df['pred']\n",
    "    precision, recall, f1, _ = precision_recall_fscore_support(\n",
    "        ground_truth_labels,\n",
    "        submission_labels,\n",
    "        average='weighted',\n",
    "        zero_division=0\n",
    "    )\n",
    "    print(f'{100*precision:.1f} & {100*recall:.1f} & {100*f1:.1f}')"
   ]
  },
  {
   "cell_type": "code",
   "execution_count": 12,
   "metadata": {},
   "outputs": [],
   "source": [
    "dev[['annotation_id', 'pred']].rename(columns={'pred': 'labels'}).to_csv(f'{output_path}{model_name}.csv', index=False)"
   ]
  },
  {
   "cell_type": "code",
   "execution_count": 13,
   "metadata": {},
   "outputs": [
    {
     "name": "stdout",
     "output_type": "stream",
     "text": [
      "62.0 & 63.3 & 61.6\n",
      "None\n"
     ]
    }
   ],
   "source": [
    "print(eval(df_out))"
   ]
  },
  {
   "cell_type": "code",
   "execution_count": 14,
   "metadata": {},
   "outputs": [],
   "source": [
    "#confusion = confusion_matrix(df_out['labels'], df_out['pred'], labels=labels)\n",
    "#confusion_plot = ConfusionMatrixDisplay(confusion, display_labels=labels)\n",
    "#confusion_plot.plot(xticks_rotation=60)"
   ]
  }
 ],
 "metadata": {
  "kernelspec": {
   "display_name": "base",
   "language": "python",
   "name": "python3"
  },
  "language_info": {
   "codemirror_mode": {
    "name": "ipython",
    "version": 3
   },
   "file_extension": ".py",
   "mimetype": "text/x-python",
   "name": "python",
   "nbconvert_exporter": "python",
   "pygments_lexer": "ipython3",
   "version": "3.11.7"
  },
  "orig_nbformat": 4
 },
 "nbformat": 4,
 "nbformat_minor": 2
}
