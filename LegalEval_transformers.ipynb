{
  "cells": [
    {
      "cell_type": "code",
      "execution_count": null,
      "id": "3c4ae8f9",
      "metadata": {
        "id": "3c4ae8f9"
      },
      "outputs": [],
      "source": [
        "%pip install accelerate datasets evaluate numpy scikit-learn torch transformers[torch]"
      ]
    },
    {
      "cell_type": "code",
      "execution_count": 1,
      "id": "0a8c64ed",
      "metadata": {},
      "outputs": [],
      "source": [
        "from datasets import ClassLabel, Features, load_dataset, TextClassification, Value\n",
        "#from os import sched_getaffinity\n",
        "from torch import backends, cuda, get_num_threads, set_num_threads\n",
        "from transformers import AutoTokenizer, AutoModelForSequenceClassification, DataCollatorWithPadding, EvalPrediction, TrainingArguments, Trainer\n",
        "\n",
        "import evaluate\n",
        "import numpy as np"
      ]
    },
    {
      "cell_type": "code",
      "execution_count": null,
      "id": "85a68a82",
      "metadata": {},
      "outputs": [],
      "source": [
        "#num_threads = max(1, get_num_threads(), len(sched_getaffinity(0)) - 1)\n",
        "#set_num_threads(num_threads)\n",
        "#num_threads"
      ]
    },
    {
      "cell_type": "code",
      "execution_count": 2,
      "id": "9aa48eab",
      "metadata": {},
      "outputs": [],
      "source": [
        "#from google.colab import drive\n",
        "#drive.mount('/content/drive')\n",
        "data_path = 'BUILD/'\n",
        "model_path = 'MODELS/'\n",
        "\n",
        "#base = {'name': 'legal-bert', 'tokenizer': 'nlpaueb/legal-bert-base-uncased', 'model': 'nlpaueb/legal-bert-base-uncased'}\n",
        "#base = {'name': 'distilbert', 'tokenizer': 'distilbert-base-uncased', 'model': 'distilbert-base-uncased'}\n",
        "base = {'name': 'roberta', 'tokenizer': 'xlm-roberta-base', 'model': 'xlm-roberta-base'}\n",
        "\n",
        "epochs = 3\n",
        "batch_size = 4\n",
        "\n",
        "use_cuda_if_available = True\n",
        "gradient_checkpointing = False"
      ]
    },
    {
      "cell_type": "code",
      "execution_count": 3,
      "id": "624fed92",
      "metadata": {},
      "outputs": [
        {
          "data": {
            "text/plain": [
              "'cuda:0'"
            ]
          },
          "execution_count": 3,
          "metadata": {},
          "output_type": "execute_result"
        }
      ],
      "source": [
        "if use_cuda_if_available and cuda.is_available():\n",
        "    device = \"cuda:0\"\n",
        "else:\n",
        "    device = \"cpu\"\n",
        "    if not use_cuda_if_available:\n",
        "        backends.cudnn.enabled = False\n",
        "        cuda.is_available = lambda : False\n",
        "\n",
        "device"
      ]
    },
    {
      "cell_type": "code",
      "execution_count": 4,
      "id": "16b4b723",
      "metadata": {},
      "outputs": [
        {
          "data": {
            "text/plain": [
              "DatasetDict({\n",
              "    train: Dataset({\n",
              "        features: ['doc_id', 'doc_index', 'sentence_index', 'annotation_id', 'text', 'meta_group', 'labels'],\n",
              "        num_rows: 26087\n",
              "    })\n",
              "    test: Dataset({\n",
              "        features: ['doc_id', 'doc_index', 'sentence_index', 'annotation_id', 'text', 'meta_group', 'labels'],\n",
              "        num_rows: 2899\n",
              "    })\n",
              "})"
            ]
          },
          "execution_count": 4,
          "metadata": {},
          "output_type": "execute_result"
        }
      ],
      "source": [
        "meta_groups = ['Criminal', 'Tax']\n",
        "labels = ['PREAMBLE', 'FAC', 'RLC', 'ISSUE', 'ARG_PETITIONER', 'ARG_RESPONDENT', 'ANALYSIS', 'STA', 'PRE_RELIED', 'PRE_NOT_RELIED', 'RATIO', 'RPC', 'NONE']\n",
        "\n",
        "dataset = load_dataset(\n",
        "    'csv',\n",
        "    data_files={\n",
        "        'train': f'{data_path}train.csv',\n",
        "        'test': f'{data_path}dev.csv',\n",
        "    },\n",
        "    features=Features({\n",
        "        'doc_id': Value('uint32'),\n",
        "        'doc_index': Value('uint16'),\n",
        "        'sentence_index': Value('uint16'),\n",
        "        'annotation_id': Value('string'),\n",
        "        'text': Value('string'),\n",
        "        'meta_group': ClassLabel(names=meta_groups),\n",
        "        'labels': ClassLabel(names=labels),\n",
        "    })\n",
        ")\n",
        "\n",
        "dataset"
      ]
    },
    {
      "cell_type": "code",
      "execution_count": 5,
      "id": "5fec8183",
      "metadata": {},
      "outputs": [
        {
          "data": {
            "text/plain": [
              "DatasetDict({\n",
              "    train: Dataset({\n",
              "        features: ['doc_id', 'doc_index', 'sentence_index', 'annotation_id', 'meta_group', 'labels', 'input_ids', 'attention_mask'],\n",
              "        num_rows: 26087\n",
              "    })\n",
              "    test: Dataset({\n",
              "        features: ['doc_id', 'doc_index', 'sentence_index', 'annotation_id', 'meta_group', 'labels', 'input_ids', 'attention_mask'],\n",
              "        num_rows: 2899\n",
              "    })\n",
              "})"
            ]
          },
          "execution_count": 5,
          "metadata": {},
          "output_type": "execute_result"
        }
      ],
      "source": [
        "tokenizer = AutoTokenizer.from_pretrained(base['tokenizer'])\n",
        "\n",
        "tokenized_dataset = dataset.map(\n",
        "    lambda t: tokenizer(t['text'], truncation=True),\n",
        "    batched=True\n",
        ").remove_columns('text')\n",
        "\n",
        "tokenized_dataset"
      ]
    },
    {
      "cell_type": "code",
      "execution_count": 6,
      "id": "7757d4c7",
      "metadata": {},
      "outputs": [],
      "source": [
        "metric = evaluate.load('f1')\n",
        "\n",
        "def compute_metrics(eval_pred: EvalPrediction):\n",
        "    predictions, references = eval_pred\n",
        "    predictions = np.argmax(predictions, axis=1)\n",
        "    return metric.compute(\n",
        "        predictions=predictions,\n",
        "        references=references,\n",
        "        average='weighted'\n",
        "    )"
      ]
    },
    {
      "cell_type": "code",
      "execution_count": 7,
      "id": "09837d7a",
      "metadata": {},
      "outputs": [],
      "source": [
        "train_data = tokenized_dataset['train']#.train_test_split(train_size=0.05, stratify_by_column='labels')['train']\n",
        "trainer = Trainer(\n",
        "    AutoModelForSequenceClassification.from_pretrained(\n",
        "        f'{model_path}{base[\"name\"]}_{epochs-1}_model' if epochs > 1 else base['model'],\n",
        "        num_labels=len(labels),\n",
        "        id2label={ i: labels[i] for i in range(len(labels)) },\n",
        "        label2id={ labels[i]: i for i in range(len(labels)) }\n",
        "    ).to(device),\n",
        "    TrainingArguments(\n",
        "        output_dir=f'{base[\"name\"]}_{epochs}_model',\n",
        "        evaluation_strategy='epoch',\n",
        "        num_train_epochs=1,\n",
        "        save_strategy='epoch',\n",
        "        #save_steps=1,\n",
        "        label_names=[\"labels\"],\n",
        "        load_best_model_at_end=True,\n",
        "        logging_dir='./logs',\n",
        "        logging_steps=10,\n",
        "        per_device_train_batch_size=batch_size,\n",
        "        per_device_eval_batch_size=batch_size,\n",
        "        gradient_accumulation_steps=8,\n",
        "        gradient_checkpointing=gradient_checkpointing,\n",
        "        learning_rate=2e-5,\n",
        "        weight_decay=0.01,\n",
        "        optim='adafactor',\n",
        "    ),\n",
        "    DataCollatorWithPadding(tokenizer=tokenizer),\n",
        "    train_data,\n",
        "    train_data,\n",
        "    tokenizer,\n",
        "    compute_metrics=compute_metrics,\n",
        ")"
      ]
    },
    {
      "cell_type": "code",
      "execution_count": 8,
      "id": "b9b2e97f",
      "metadata": {},
      "outputs": [
        {
          "data": {
            "application/vnd.jupyter.widget-view+json": {
              "model_id": "24100569085248a7806239dc867c008f",
              "version_major": 2,
              "version_minor": 0
            },
            "text/plain": [
              "  0%|          | 0/815 [00:00<?, ?it/s]"
            ]
          },
          "metadata": {},
          "output_type": "display_data"
        },
        {
          "name": "stderr",
          "output_type": "stream",
          "text": [
            "You're using a XLMRobertaTokenizerFast tokenizer. Please note that with a fast tokenizer, using the `__call__` method is faster than using a method to encode the text followed by a call to the `pad` method to get a padded encoding.\n"
          ]
        },
        {
          "name": "stdout",
          "output_type": "stream",
          "text": [
            "{'loss': 1.1606, 'learning_rate': 1.9754601226993868e-05, 'epoch': 0.01}\n",
            "{'loss': 1.1894, 'learning_rate': 1.9509202453987733e-05, 'epoch': 0.02}\n",
            "{'loss': 1.2219, 'learning_rate': 1.9263803680981596e-05, 'epoch': 0.04}\n",
            "{'loss': 1.2721, 'learning_rate': 1.9018404907975462e-05, 'epoch': 0.05}\n",
            "{'loss': 1.2163, 'learning_rate': 1.8773006134969328e-05, 'epoch': 0.06}\n",
            "{'loss': 1.1682, 'learning_rate': 1.852760736196319e-05, 'epoch': 0.07}\n",
            "{'loss': 1.2186, 'learning_rate': 1.828220858895706e-05, 'epoch': 0.09}\n",
            "{'loss': 1.0154, 'learning_rate': 1.8036809815950922e-05, 'epoch': 0.1}\n",
            "{'loss': 1.0596, 'learning_rate': 1.7791411042944788e-05, 'epoch': 0.11}\n",
            "{'loss': 1.1151, 'learning_rate': 1.7546012269938654e-05, 'epoch': 0.12}\n",
            "{'loss': 1.2714, 'learning_rate': 1.7300613496932516e-05, 'epoch': 0.13}\n",
            "{'loss': 1.1019, 'learning_rate': 1.7055214723926382e-05, 'epoch': 0.15}\n",
            "{'loss': 1.1097, 'learning_rate': 1.6809815950920248e-05, 'epoch': 0.16}\n",
            "{'loss': 1.1397, 'learning_rate': 1.656441717791411e-05, 'epoch': 0.17}\n",
            "{'loss': 1.0644, 'learning_rate': 1.6319018404907976e-05, 'epoch': 0.18}\n",
            "{'loss': 1.128, 'learning_rate': 1.6073619631901842e-05, 'epoch': 0.2}\n",
            "{'loss': 1.1115, 'learning_rate': 1.5828220858895708e-05, 'epoch': 0.21}\n",
            "{'loss': 1.0492, 'learning_rate': 1.5582822085889574e-05, 'epoch': 0.22}\n",
            "{'loss': 1.1268, 'learning_rate': 1.5337423312883436e-05, 'epoch': 0.23}\n",
            "{'loss': 1.0881, 'learning_rate': 1.50920245398773e-05, 'epoch': 0.25}\n",
            "{'loss': 1.0992, 'learning_rate': 1.4846625766871168e-05, 'epoch': 0.26}\n",
            "{'loss': 1.0774, 'learning_rate': 1.4601226993865032e-05, 'epoch': 0.27}\n",
            "{'loss': 1.0356, 'learning_rate': 1.4355828220858897e-05, 'epoch': 0.28}\n",
            "{'loss': 1.0336, 'learning_rate': 1.4110429447852763e-05, 'epoch': 0.29}\n",
            "{'loss': 1.0127, 'learning_rate': 1.3865030674846627e-05, 'epoch': 0.31}\n",
            "{'loss': 1.1356, 'learning_rate': 1.3619631901840491e-05, 'epoch': 0.32}\n",
            "{'loss': 1.1459, 'learning_rate': 1.3374233128834357e-05, 'epoch': 0.33}\n",
            "{'loss': 1.133, 'learning_rate': 1.3128834355828221e-05, 'epoch': 0.34}\n",
            "{'loss': 1.0101, 'learning_rate': 1.2883435582822085e-05, 'epoch': 0.36}\n",
            "{'loss': 1.0624, 'learning_rate': 1.2638036809815953e-05, 'epoch': 0.37}\n",
            "{'loss': 1.0824, 'learning_rate': 1.2392638036809817e-05, 'epoch': 0.38}\n",
            "{'loss': 0.9671, 'learning_rate': 1.2147239263803683e-05, 'epoch': 0.39}\n",
            "{'loss': 1.0747, 'learning_rate': 1.1901840490797547e-05, 'epoch': 0.4}\n",
            "{'loss': 0.942, 'learning_rate': 1.1656441717791411e-05, 'epoch': 0.42}\n",
            "{'loss': 1.0346, 'learning_rate': 1.1411042944785277e-05, 'epoch': 0.43}\n",
            "{'loss': 0.9335, 'learning_rate': 1.1165644171779141e-05, 'epoch': 0.44}\n",
            "{'loss': 0.9931, 'learning_rate': 1.0920245398773005e-05, 'epoch': 0.45}\n",
            "{'loss': 1.0107, 'learning_rate': 1.0674846625766873e-05, 'epoch': 0.47}\n",
            "{'loss': 0.9608, 'learning_rate': 1.0429447852760737e-05, 'epoch': 0.48}\n",
            "{'loss': 0.9626, 'learning_rate': 1.0184049079754601e-05, 'epoch': 0.49}\n",
            "{'loss': 0.9663, 'learning_rate': 9.938650306748467e-06, 'epoch': 0.5}\n",
            "{'loss': 1.0459, 'learning_rate': 9.693251533742331e-06, 'epoch': 0.52}\n",
            "{'loss': 0.8847, 'learning_rate': 9.447852760736197e-06, 'epoch': 0.53}\n",
            "{'loss': 1.0689, 'learning_rate': 9.202453987730062e-06, 'epoch': 0.54}\n",
            "{'loss': 0.784, 'learning_rate': 8.957055214723927e-06, 'epoch': 0.55}\n",
            "{'loss': 0.9817, 'learning_rate': 8.711656441717792e-06, 'epoch': 0.56}\n",
            "{'loss': 0.9219, 'learning_rate': 8.466257668711658e-06, 'epoch': 0.58}\n",
            "{'loss': 1.0701, 'learning_rate': 8.220858895705522e-06, 'epoch': 0.59}\n",
            "{'loss': 1.0256, 'learning_rate': 7.975460122699386e-06, 'epoch': 0.6}\n",
            "{'loss': 0.9602, 'learning_rate': 7.730061349693252e-06, 'epoch': 0.61}\n",
            "{'loss': 0.8401, 'learning_rate': 7.484662576687118e-06, 'epoch': 0.63}\n",
            "{'loss': 0.8658, 'learning_rate': 7.239263803680983e-06, 'epoch': 0.64}\n",
            "{'loss': 0.8941, 'learning_rate': 6.993865030674847e-06, 'epoch': 0.65}\n",
            "{'loss': 1.0277, 'learning_rate': 6.748466257668712e-06, 'epoch': 0.66}\n",
            "{'loss': 1.0428, 'learning_rate': 6.503067484662578e-06, 'epoch': 0.67}\n",
            "{'loss': 0.8938, 'learning_rate': 6.257668711656443e-06, 'epoch': 0.69}\n",
            "{'loss': 0.8722, 'learning_rate': 6.012269938650307e-06, 'epoch': 0.7}\n",
            "{'loss': 0.898, 'learning_rate': 5.766871165644172e-06, 'epoch': 0.71}\n",
            "{'loss': 0.9454, 'learning_rate': 5.521472392638038e-06, 'epoch': 0.72}\n",
            "{'loss': 1.0156, 'learning_rate': 5.276073619631902e-06, 'epoch': 0.74}\n",
            "{'loss': 0.8544, 'learning_rate': 5.030674846625767e-06, 'epoch': 0.75}\n",
            "{'loss': 0.9336, 'learning_rate': 4.785276073619632e-06, 'epoch': 0.76}\n",
            "{'loss': 0.8814, 'learning_rate': 4.539877300613497e-06, 'epoch': 0.77}\n",
            "{'loss': 0.897, 'learning_rate': 4.294478527607362e-06, 'epoch': 0.79}\n",
            "{'loss': 0.9165, 'learning_rate': 4.049079754601227e-06, 'epoch': 0.8}\n",
            "{'loss': 1.0138, 'learning_rate': 3.8036809815950928e-06, 'epoch': 0.81}\n",
            "{'loss': 0.9149, 'learning_rate': 3.5582822085889574e-06, 'epoch': 0.82}\n",
            "{'loss': 0.9413, 'learning_rate': 3.312883435582822e-06, 'epoch': 0.83}\n",
            "{'loss': 0.8441, 'learning_rate': 3.0674846625766875e-06, 'epoch': 0.85}\n",
            "{'loss': 0.9, 'learning_rate': 2.822085889570552e-06, 'epoch': 0.86}\n",
            "{'loss': 0.9826, 'learning_rate': 2.5766871165644175e-06, 'epoch': 0.87}\n",
            "{'loss': 0.9019, 'learning_rate': 2.331288343558282e-06, 'epoch': 0.88}\n",
            "{'loss': 0.9346, 'learning_rate': 2.085889570552147e-06, 'epoch': 0.9}\n",
            "{'loss': 0.9475, 'learning_rate': 1.8404907975460124e-06, 'epoch': 0.91}\n",
            "{'loss': 0.9054, 'learning_rate': 1.5950920245398775e-06, 'epoch': 0.92}\n",
            "{'loss': 0.9202, 'learning_rate': 1.3496932515337425e-06, 'epoch': 0.93}\n",
            "{'loss': 0.9086, 'learning_rate': 1.1042944785276075e-06, 'epoch': 0.94}\n",
            "{'loss': 0.9552, 'learning_rate': 8.588957055214725e-07, 'epoch': 0.96}\n",
            "{'loss': 0.893, 'learning_rate': 6.134969325153375e-07, 'epoch': 0.97}\n",
            "{'loss': 0.9072, 'learning_rate': 3.680981595092025e-07, 'epoch': 0.98}\n",
            "{'loss': 0.8377, 'learning_rate': 1.226993865030675e-07, 'epoch': 0.99}\n"
          ]
        },
        {
          "data": {
            "application/vnd.jupyter.widget-view+json": {
              "model_id": "bfdb7e2a78dc489484685f29116d9f45",
              "version_major": 2,
              "version_minor": 0
            },
            "text/plain": [
              "  0%|          | 0/6522 [00:00<?, ?it/s]"
            ]
          },
          "metadata": {},
          "output_type": "display_data"
        },
        {
          "name": "stdout",
          "output_type": "stream",
          "text": [
            "{'eval_loss': 0.8869172930717468, 'eval_f1': 0.7028425816125067, 'eval_runtime': 111.762, 'eval_samples_per_second': 233.416, 'eval_steps_per_second': 58.356, 'epoch': 1.0}\n",
            "{'train_runtime': 708.6828, 'train_samples_per_second': 36.811, 'train_steps_per_second': 1.15, 'train_loss': 1.0079269104940027, 'epoch': 1.0}\n"
          ]
        }
      ],
      "source": [
        "#for batch in trainer.get_eval_dataloader():\n",
        "#    break\n",
        "\n",
        "#batch = {k: v.to(device) for k, v in batch.items()}\n",
        "\n",
        "#with torch.no_grad():\n",
        "#    outputs = trainer.model(**batch)\n",
        "\n",
        "#predictions = outputs.logits.cpu().numpy()\n",
        "#labels = batch[\"labels\"].cpu().numpy()\n",
        "\n",
        "#print(compute_metrics((predictions, labels)))\n",
        "\n",
        "trainer.train()\n",
        "trainer.save_model()"
      ]
    }
  ],
  "metadata": {
    "colab": {
      "provenance": []
    },
    "kernelspec": {
      "display_name": "Python 3 (ipykernel)",
      "language": "python",
      "name": "python3"
    },
    "language_info": {
      "codemirror_mode": {
        "name": "ipython",
        "version": 3
      },
      "file_extension": ".py",
      "mimetype": "text/x-python",
      "name": "python",
      "nbconvert_exporter": "python",
      "pygments_lexer": "ipython3",
      "version": "3.11.7"
    }
  },
  "nbformat": 4,
  "nbformat_minor": 5
}
